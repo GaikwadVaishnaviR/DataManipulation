{
 "cells": [
  {
   "cell_type": "markdown",
   "id": "df89d2ed",
   "metadata": {
    "papermill": {
     "duration": 0.013382,
     "end_time": "2022-01-16T15:04:59.671298",
     "exception": false,
     "start_time": "2022-01-16T15:04:59.657916",
     "status": "completed"
    },
    "tags": []
   },
   "source": [
    "**This notebook is an exercise in the [Pandas](https://www.kaggle.com/learn/pandas) course.  You can reference the tutorial at [this link](https://www.kaggle.com/residentmario/data-types-and-missing-values).**\n",
    "\n",
    "---\n"
   ]
  },
  {
   "cell_type": "markdown",
   "id": "4caaf7f4",
   "metadata": {
    "papermill": {
     "duration": 0.012347,
     "end_time": "2022-01-16T15:04:59.698588",
     "exception": false,
     "start_time": "2022-01-16T15:04:59.686241",
     "status": "completed"
    },
    "tags": []
   },
   "source": [
    "# Introduction\n",
    "\n",
    "Run the following cell to load your data and some utility functions."
   ]
  },
  {
   "cell_type": "code",
   "execution_count": 1,
   "id": "5a4582b4",
   "metadata": {
    "execution": {
     "iopub.execute_input": "2022-01-16T15:04:59.730262Z",
     "iopub.status.busy": "2022-01-16T15:04:59.728459Z",
     "iopub.status.idle": "2022-01-16T15:05:02.947967Z",
     "shell.execute_reply": "2022-01-16T15:05:02.948601Z",
     "shell.execute_reply.started": "2022-01-16T14:48:39.983756Z"
    },
    "papermill": {
     "duration": 3.237822,
     "end_time": "2022-01-16T15:05:02.948905",
     "exception": false,
     "start_time": "2022-01-16T15:04:59.711083",
     "status": "completed"
    },
    "tags": []
   },
   "outputs": [
    {
     "name": "stdout",
     "output_type": "stream",
     "text": [
      "Setup complete.\n"
     ]
    }
   ],
   "source": [
    "import pandas as pd\n",
    "\n",
    "reviews = pd.read_csv(\"../input/wine-reviews/winemag-data-130k-v2.csv\", index_col=0)\n",
    "\n",
    "from learntools.core import binder; binder.bind(globals())\n",
    "from learntools.pandas.data_types_and_missing_data import *\n",
    "print(\"Setup complete.\")"
   ]
  },
  {
   "cell_type": "markdown",
   "id": "32b30df3",
   "metadata": {
    "papermill": {
     "duration": 0.012379,
     "end_time": "2022-01-16T15:05:02.974745",
     "exception": false,
     "start_time": "2022-01-16T15:05:02.962366",
     "status": "completed"
    },
    "tags": []
   },
   "source": [
    "# Exercises"
   ]
  },
  {
   "cell_type": "markdown",
   "id": "1d9a69cc",
   "metadata": {
    "papermill": {
     "duration": 0.012514,
     "end_time": "2022-01-16T15:05:03.000548",
     "exception": false,
     "start_time": "2022-01-16T15:05:02.988034",
     "status": "completed"
    },
    "tags": []
   },
   "source": [
    "## 1. \n",
    "What is the data type of the `points` column in the dataset?"
   ]
  },
  {
   "cell_type": "code",
   "execution_count": 2,
   "id": "044c1434",
   "metadata": {
    "execution": {
     "iopub.execute_input": "2022-01-16T15:05:03.031282Z",
     "iopub.status.busy": "2022-01-16T15:05:03.030578Z",
     "iopub.status.idle": "2022-01-16T15:05:03.038435Z",
     "shell.execute_reply": "2022-01-16T15:05:03.038995Z",
     "shell.execute_reply.started": "2022-01-16T14:48:47.782111Z"
    },
    "papermill": {
     "duration": 0.025858,
     "end_time": "2022-01-16T15:05:03.039197",
     "exception": false,
     "start_time": "2022-01-16T15:05:03.013339",
     "status": "completed"
    },
    "tags": []
   },
   "outputs": [
    {
     "data": {
      "application/javascript": [
       "parent.postMessage({\"jupyterEvent\": \"custom.exercise_interaction\", \"data\": {\"outcomeType\": 1, \"valueTowardsCompletion\": 0.25, \"interactionType\": 1, \"questionType\": 1, \"questionId\": \"1_PointsDtype\", \"learnToolsVersion\": \"0.3.4\", \"failureMessage\": \"\", \"exceptionClass\": \"\", \"trace\": \"\"}}, \"*\")"
      ],
      "text/plain": [
       "<IPython.core.display.Javascript object>"
      ]
     },
     "metadata": {},
     "output_type": "display_data"
    },
    {
     "data": {
      "text/markdown": [
       "<span style=\"color:#33cc33\">Correct</span>"
      ],
      "text/plain": [
       "Correct"
      ]
     },
     "metadata": {},
     "output_type": "display_data"
    }
   ],
   "source": [
    "# Your code here\n",
    "dtype = reviews.points.dtype\n",
    "\n",
    "# Check your answer\n",
    "q1.check()"
   ]
  },
  {
   "cell_type": "code",
   "execution_count": 3,
   "id": "4942478e",
   "metadata": {
    "execution": {
     "iopub.execute_input": "2022-01-16T15:05:03.070358Z",
     "iopub.status.busy": "2022-01-16T15:05:03.069719Z",
     "iopub.status.idle": "2022-01-16T15:05:03.072627Z",
     "shell.execute_reply": "2022-01-16T15:05:03.073196Z"
    },
    "papermill": {
     "duration": 0.020415,
     "end_time": "2022-01-16T15:05:03.073372",
     "exception": false,
     "start_time": "2022-01-16T15:05:03.052957",
     "status": "completed"
    },
    "tags": []
   },
   "outputs": [],
   "source": [
    "#q1.hint()\n",
    "#q1.solution()"
   ]
  },
  {
   "cell_type": "markdown",
   "id": "bd15dee6",
   "metadata": {
    "papermill": {
     "duration": 0.013454,
     "end_time": "2022-01-16T15:05:03.100750",
     "exception": false,
     "start_time": "2022-01-16T15:05:03.087296",
     "status": "completed"
    },
    "tags": []
   },
   "source": [
    "## 2. \n",
    "Create a Series from entries in the `points` column, but convert the entries to strings. Hint: strings are `str` in native Python."
   ]
  },
  {
   "cell_type": "code",
   "execution_count": 4,
   "id": "feec1a32",
   "metadata": {
    "execution": {
     "iopub.execute_input": "2022-01-16T15:05:03.131689Z",
     "iopub.status.busy": "2022-01-16T15:05:03.131001Z",
     "iopub.status.idle": "2022-01-16T15:05:03.302277Z",
     "shell.execute_reply": "2022-01-16T15:05:03.301709Z",
     "shell.execute_reply.started": "2022-01-16T14:49:45.512926Z"
    },
    "papermill": {
     "duration": 0.187829,
     "end_time": "2022-01-16T15:05:03.302433",
     "exception": false,
     "start_time": "2022-01-16T15:05:03.114604",
     "status": "completed"
    },
    "tags": []
   },
   "outputs": [
    {
     "data": {
      "application/javascript": [
       "parent.postMessage({\"jupyterEvent\": \"custom.exercise_interaction\", \"data\": {\"outcomeType\": 1, \"valueTowardsCompletion\": 0.25, \"interactionType\": 1, \"questionType\": 1, \"questionId\": \"2_StrPoints\", \"learnToolsVersion\": \"0.3.4\", \"failureMessage\": \"\", \"exceptionClass\": \"\", \"trace\": \"\"}}, \"*\")"
      ],
      "text/plain": [
       "<IPython.core.display.Javascript object>"
      ]
     },
     "metadata": {},
     "output_type": "display_data"
    },
    {
     "data": {
      "text/markdown": [
       "<span style=\"color:#33cc33\">Correct</span>"
      ],
      "text/plain": [
       "Correct"
      ]
     },
     "metadata": {},
     "output_type": "display_data"
    }
   ],
   "source": [
    "point_strings = reviews.points.astype('str')\n",
    "\n",
    "# Check your answer\n",
    "q2.check()"
   ]
  },
  {
   "cell_type": "code",
   "execution_count": 5,
   "id": "499f6cbe",
   "metadata": {
    "execution": {
     "iopub.execute_input": "2022-01-16T15:05:03.336289Z",
     "iopub.status.busy": "2022-01-16T15:05:03.335641Z",
     "iopub.status.idle": "2022-01-16T15:05:03.339073Z",
     "shell.execute_reply": "2022-01-16T15:05:03.338448Z"
    },
    "papermill": {
     "duration": 0.022044,
     "end_time": "2022-01-16T15:05:03.339220",
     "exception": false,
     "start_time": "2022-01-16T15:05:03.317176",
     "status": "completed"
    },
    "tags": []
   },
   "outputs": [],
   "source": [
    "#q2.hint()\n",
    "#q2.solution()"
   ]
  },
  {
   "cell_type": "markdown",
   "id": "62ac63a4",
   "metadata": {
    "papermill": {
     "duration": 0.014443,
     "end_time": "2022-01-16T15:05:03.368529",
     "exception": false,
     "start_time": "2022-01-16T15:05:03.354086",
     "status": "completed"
    },
    "tags": []
   },
   "source": [
    "## 3.\n",
    "Sometimes the price column is null. How many reviews in the dataset are missing a price?"
   ]
  },
  {
   "cell_type": "code",
   "execution_count": 6,
   "id": "208f9ec6",
   "metadata": {
    "execution": {
     "iopub.execute_input": "2022-01-16T15:05:03.401358Z",
     "iopub.status.busy": "2022-01-16T15:05:03.400721Z",
     "iopub.status.idle": "2022-01-16T15:05:03.408053Z",
     "shell.execute_reply": "2022-01-16T15:05:03.408639Z",
     "shell.execute_reply.started": "2022-01-16T14:53:16.132576Z"
    },
    "papermill": {
     "duration": 0.025428,
     "end_time": "2022-01-16T15:05:03.408817",
     "exception": false,
     "start_time": "2022-01-16T15:05:03.383389",
     "status": "completed"
    },
    "tags": []
   },
   "outputs": [
    {
     "data": {
      "application/javascript": [
       "parent.postMessage({\"jupyterEvent\": \"custom.exercise_interaction\", \"data\": {\"outcomeType\": 1, \"valueTowardsCompletion\": 0.25, \"interactionType\": 1, \"questionType\": 1, \"questionId\": \"3_CountMissingPrices\", \"learnToolsVersion\": \"0.3.4\", \"failureMessage\": \"\", \"exceptionClass\": \"\", \"trace\": \"\"}}, \"*\")"
      ],
      "text/plain": [
       "<IPython.core.display.Javascript object>"
      ]
     },
     "metadata": {},
     "output_type": "display_data"
    },
    {
     "data": {
      "text/markdown": [
       "<span style=\"color:#33cc33\">Correct</span>"
      ],
      "text/plain": [
       "Correct"
      ]
     },
     "metadata": {},
     "output_type": "display_data"
    }
   ],
   "source": [
    "n_missing_prices = pd.isnull(reviews.price).sum()\n",
    "\n",
    "# Check your answer\n",
    "q3.check()"
   ]
  },
  {
   "cell_type": "code",
   "execution_count": 7,
   "id": "adf198d1",
   "metadata": {
    "execution": {
     "iopub.execute_input": "2022-01-16T15:05:03.444018Z",
     "iopub.status.busy": "2022-01-16T15:05:03.443383Z",
     "iopub.status.idle": "2022-01-16T15:05:03.450093Z",
     "shell.execute_reply": "2022-01-16T15:05:03.449492Z",
     "shell.execute_reply.started": "2022-01-16T14:53:44.672073Z"
    },
    "papermill": {
     "duration": 0.025477,
     "end_time": "2022-01-16T15:05:03.450239",
     "exception": false,
     "start_time": "2022-01-16T15:05:03.424762",
     "status": "completed"
    },
    "tags": []
   },
   "outputs": [
    {
     "data": {
      "application/javascript": [
       "parent.postMessage({\"jupyterEvent\": \"custom.exercise_interaction\", \"data\": {\"interactionType\": 3, \"questionType\": 1, \"questionId\": \"3_CountMissingPrices\", \"learnToolsVersion\": \"0.3.4\", \"valueTowardsCompletion\": 0.0, \"failureMessage\": \"\", \"exceptionClass\": \"\", \"trace\": \"\", \"outcomeType\": 4}}, \"*\")"
      ],
      "text/plain": [
       "<IPython.core.display.Javascript object>"
      ]
     },
     "metadata": {},
     "output_type": "display_data"
    },
    {
     "data": {
      "text/markdown": [
       "<span style=\"color:#33cc99\">Solution:</span> \n",
       "```python\n",
       "missing_price_reviews = reviews[reviews.price.isnull()]\n",
       "n_missing_prices = len(missing_price_reviews)\n",
       "# Cute alternative solution: if we sum a boolean series, True is treated as 1 and False as 0\n",
       "n_missing_prices = reviews.price.isnull().sum()\n",
       "# or equivalently:\n",
       "n_missing_prices = pd.isnull(reviews.price).sum()\n",
       "\n",
       "```"
      ],
      "text/plain": [
       "Solution: \n",
       "```python\n",
       "missing_price_reviews = reviews[reviews.price.isnull()]\n",
       "n_missing_prices = len(missing_price_reviews)\n",
       "# Cute alternative solution: if we sum a boolean series, True is treated as 1 and False as 0\n",
       "n_missing_prices = reviews.price.isnull().sum()\n",
       "# or equivalently:\n",
       "n_missing_prices = pd.isnull(reviews.price).sum()\n",
       "\n",
       "```"
      ]
     },
     "metadata": {},
     "output_type": "display_data"
    }
   ],
   "source": [
    "#q3.hint()\n",
    "q3.solution()"
   ]
  },
  {
   "cell_type": "markdown",
   "id": "283040c5",
   "metadata": {
    "papermill": {
     "duration": 0.016524,
     "end_time": "2022-01-16T15:05:03.483523",
     "exception": false,
     "start_time": "2022-01-16T15:05:03.466999",
     "status": "completed"
    },
    "tags": []
   },
   "source": [
    "## 4.\n",
    "What are the most common wine-producing regions? Create a Series counting the number of times each value occurs in the `region_1` field. This field is often missing data, so replace missing values with `Unknown`. Sort in descending order.  Your output should look something like this:\n",
    "\n",
    "```\n",
    "Unknown                    21247\n",
    "Napa Valley                 4480\n",
    "                           ...  \n",
    "Bardolino Superiore            1\n",
    "Primitivo del Tarantino        1\n",
    "Name: region_1, Length: 1230, dtype: int64\n",
    "```"
   ]
  },
  {
   "cell_type": "code",
   "execution_count": 8,
   "id": "90dc3a6c",
   "metadata": {
    "execution": {
     "iopub.execute_input": "2022-01-16T15:05:03.520377Z",
     "iopub.status.busy": "2022-01-16T15:05:03.519717Z",
     "iopub.status.idle": "2022-01-16T15:05:03.596127Z",
     "shell.execute_reply": "2022-01-16T15:05:03.596670Z",
     "shell.execute_reply.started": "2022-01-16T15:04:16.369555Z"
    },
    "papermill": {
     "duration": 0.096597,
     "end_time": "2022-01-16T15:05:03.596843",
     "exception": false,
     "start_time": "2022-01-16T15:05:03.500246",
     "status": "completed"
    },
    "tags": []
   },
   "outputs": [
    {
     "data": {
      "application/javascript": [
       "parent.postMessage({\"jupyterEvent\": \"custom.exercise_interaction\", \"data\": {\"outcomeType\": 1, \"valueTowardsCompletion\": 0.25, \"interactionType\": 1, \"questionType\": 2, \"questionId\": \"4_ReviewsPerRegion\", \"learnToolsVersion\": \"0.3.4\", \"failureMessage\": \"\", \"exceptionClass\": \"\", \"trace\": \"\"}}, \"*\")"
      ],
      "text/plain": [
       "<IPython.core.display.Javascript object>"
      ]
     },
     "metadata": {},
     "output_type": "display_data"
    },
    {
     "data": {
      "text/markdown": [
       "<span style=\"color:#33cc33\">Correct</span>"
      ],
      "text/plain": [
       "Correct"
      ]
     },
     "metadata": {},
     "output_type": "display_data"
    }
   ],
   "source": [
    "reviews_per_region = reviews.region_1.fillna('Unknown').value_counts().sort_values(ascending=False)\n",
    "\n",
    "# Check your answer\n",
    "q4.check()"
   ]
  },
  {
   "cell_type": "code",
   "execution_count": 9,
   "id": "c14cad19",
   "metadata": {
    "execution": {
     "iopub.execute_input": "2022-01-16T15:05:03.637113Z",
     "iopub.status.busy": "2022-01-16T15:05:03.636215Z",
     "iopub.status.idle": "2022-01-16T15:05:03.637766Z",
     "shell.execute_reply": "2022-01-16T15:05:03.638382Z",
     "shell.execute_reply.started": "2022-01-16T15:04:24.210075Z"
    },
    "papermill": {
     "duration": 0.023998,
     "end_time": "2022-01-16T15:05:03.638600",
     "exception": false,
     "start_time": "2022-01-16T15:05:03.614602",
     "status": "completed"
    },
    "tags": []
   },
   "outputs": [],
   "source": [
    "#q4.hint()\n",
    "#q4.solution()"
   ]
  },
  {
   "cell_type": "markdown",
   "id": "6a44e1d1",
   "metadata": {
    "papermill": {
     "duration": 0.017831,
     "end_time": "2022-01-16T15:05:03.674485",
     "exception": false,
     "start_time": "2022-01-16T15:05:03.656654",
     "status": "completed"
    },
    "tags": []
   },
   "source": [
    "# Keep going\n",
    "\n",
    "Move on to **[renaming and combining](https://www.kaggle.com/residentmario/renaming-and-combining)**."
   ]
  },
  {
   "cell_type": "markdown",
   "id": "50348225",
   "metadata": {
    "papermill": {
     "duration": 0.018066,
     "end_time": "2022-01-16T15:05:03.710625",
     "exception": false,
     "start_time": "2022-01-16T15:05:03.692559",
     "status": "completed"
    },
    "tags": []
   },
   "source": [
    "---\n",
    "\n",
    "\n",
    "\n",
    "\n",
    "*Have questions or comments? Visit the [course discussion forum](https://www.kaggle.com/learn/pandas/discussion) to chat with other learners.*"
   ]
  }
 ],
 "metadata": {
  "kernelspec": {
   "display_name": "Python 3",
   "language": "python",
   "name": "python3"
  },
  "language_info": {
   "codemirror_mode": {
    "name": "ipython",
    "version": 3
   },
   "file_extension": ".py",
   "mimetype": "text/x-python",
   "name": "python",
   "nbconvert_exporter": "python",
   "pygments_lexer": "ipython3",
   "version": "3.7.12"
  },
  "papermill": {
   "default_parameters": {},
   "duration": 15.728467,
   "end_time": "2022-01-16T15:05:04.439077",
   "environment_variables": {},
   "exception": null,
   "input_path": "__notebook__.ipynb",
   "output_path": "__notebook__.ipynb",
   "parameters": {},
   "start_time": "2022-01-16T15:04:48.710610",
   "version": "2.3.3"
  }
 },
 "nbformat": 4,
 "nbformat_minor": 5
}
