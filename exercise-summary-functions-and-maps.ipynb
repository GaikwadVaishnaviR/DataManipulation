{
 "cells": [
  {
   "cell_type": "markdown",
   "id": "dc88d70e",
   "metadata": {
    "papermill": {
     "duration": 0.019423,
     "end_time": "2022-01-16T12:56:53.353094",
     "exception": false,
     "start_time": "2022-01-16T12:56:53.333671",
     "status": "completed"
    },
    "tags": []
   },
   "source": [
    "**This notebook is an exercise in the [Pandas](https://www.kaggle.com/learn/pandas) course.  You can reference the tutorial at [this link](https://www.kaggle.com/residentmario/summary-functions-and-maps).**\n",
    "\n",
    "---\n"
   ]
  },
  {
   "cell_type": "markdown",
   "id": "03293006",
   "metadata": {
    "papermill": {
     "duration": 0.018128,
     "end_time": "2022-01-16T12:56:53.389962",
     "exception": false,
     "start_time": "2022-01-16T12:56:53.371834",
     "status": "completed"
    },
    "tags": []
   },
   "source": [
    "# Introduction\n",
    "\n",
    "Now you are ready to get a deeper understanding of your data.\n",
    "\n",
    "Run the following cell to load your data and some utility functions (including code to check your answers)."
   ]
  },
  {
   "cell_type": "code",
   "execution_count": 1,
   "id": "37dee6a4",
   "metadata": {
    "execution": {
     "iopub.execute_input": "2022-01-16T12:56:53.430846Z",
     "iopub.status.busy": "2022-01-16T12:56:53.429586Z",
     "iopub.status.idle": "2022-01-16T12:57:01.605223Z",
     "shell.execute_reply": "2022-01-16T12:57:01.606147Z",
     "shell.execute_reply.started": "2022-01-16T12:07:31.284877Z"
    },
    "papermill": {
     "duration": 8.198412,
     "end_time": "2022-01-16T12:57:01.606662",
     "exception": false,
     "start_time": "2022-01-16T12:56:53.408250",
     "status": "completed"
    },
    "tags": []
   },
   "outputs": [
    {
     "name": "stdout",
     "output_type": "stream",
     "text": [
      "Setup complete.\n"
     ]
    },
    {
     "data": {
      "text/html": [
       "<div>\n",
       "<style scoped>\n",
       "    .dataframe tbody tr th:only-of-type {\n",
       "        vertical-align: middle;\n",
       "    }\n",
       "\n",
       "    .dataframe tbody tr th {\n",
       "        vertical-align: top;\n",
       "    }\n",
       "\n",
       "    .dataframe thead th {\n",
       "        text-align: right;\n",
       "    }\n",
       "</style>\n",
       "<table border=\"1\" class=\"dataframe\">\n",
       "  <thead>\n",
       "    <tr style=\"text-align: right;\">\n",
       "      <th></th>\n",
       "      <th>country</th>\n",
       "      <th>description</th>\n",
       "      <th>designation</th>\n",
       "      <th>points</th>\n",
       "      <th>price</th>\n",
       "      <th>province</th>\n",
       "      <th>region_1</th>\n",
       "      <th>region_2</th>\n",
       "      <th>taster_name</th>\n",
       "      <th>taster_twitter_handle</th>\n",
       "      <th>title</th>\n",
       "      <th>variety</th>\n",
       "      <th>winery</th>\n",
       "    </tr>\n",
       "  </thead>\n",
       "  <tbody>\n",
       "    <tr>\n",
       "      <th>0</th>\n",
       "      <td>Italy</td>\n",
       "      <td>Aromas include tropical fruit, broom, brimston...</td>\n",
       "      <td>Vulkà Bianco</td>\n",
       "      <td>87</td>\n",
       "      <td>NaN</td>\n",
       "      <td>Sicily &amp; Sardinia</td>\n",
       "      <td>Etna</td>\n",
       "      <td>NaN</td>\n",
       "      <td>Kerin O’Keefe</td>\n",
       "      <td>@kerinokeefe</td>\n",
       "      <td>Nicosia 2013 Vulkà Bianco  (Etna)</td>\n",
       "      <td>White Blend</td>\n",
       "      <td>Nicosia</td>\n",
       "    </tr>\n",
       "    <tr>\n",
       "      <th>1</th>\n",
       "      <td>Portugal</td>\n",
       "      <td>This is ripe and fruity, a wine that is smooth...</td>\n",
       "      <td>Avidagos</td>\n",
       "      <td>87</td>\n",
       "      <td>15.0</td>\n",
       "      <td>Douro</td>\n",
       "      <td>NaN</td>\n",
       "      <td>NaN</td>\n",
       "      <td>Roger Voss</td>\n",
       "      <td>@vossroger</td>\n",
       "      <td>Quinta dos Avidagos 2011 Avidagos Red (Douro)</td>\n",
       "      <td>Portuguese Red</td>\n",
       "      <td>Quinta dos Avidagos</td>\n",
       "    </tr>\n",
       "    <tr>\n",
       "      <th>2</th>\n",
       "      <td>US</td>\n",
       "      <td>Tart and snappy, the flavors of lime flesh and...</td>\n",
       "      <td>NaN</td>\n",
       "      <td>87</td>\n",
       "      <td>14.0</td>\n",
       "      <td>Oregon</td>\n",
       "      <td>Willamette Valley</td>\n",
       "      <td>Willamette Valley</td>\n",
       "      <td>Paul Gregutt</td>\n",
       "      <td>@paulgwine</td>\n",
       "      <td>Rainstorm 2013 Pinot Gris (Willamette Valley)</td>\n",
       "      <td>Pinot Gris</td>\n",
       "      <td>Rainstorm</td>\n",
       "    </tr>\n",
       "    <tr>\n",
       "      <th>3</th>\n",
       "      <td>US</td>\n",
       "      <td>Pineapple rind, lemon pith and orange blossom ...</td>\n",
       "      <td>Reserve Late Harvest</td>\n",
       "      <td>87</td>\n",
       "      <td>13.0</td>\n",
       "      <td>Michigan</td>\n",
       "      <td>Lake Michigan Shore</td>\n",
       "      <td>NaN</td>\n",
       "      <td>Alexander Peartree</td>\n",
       "      <td>NaN</td>\n",
       "      <td>St. Julian 2013 Reserve Late Harvest Riesling ...</td>\n",
       "      <td>Riesling</td>\n",
       "      <td>St. Julian</td>\n",
       "    </tr>\n",
       "    <tr>\n",
       "      <th>4</th>\n",
       "      <td>US</td>\n",
       "      <td>Much like the regular bottling from 2012, this...</td>\n",
       "      <td>Vintner's Reserve Wild Child Block</td>\n",
       "      <td>87</td>\n",
       "      <td>65.0</td>\n",
       "      <td>Oregon</td>\n",
       "      <td>Willamette Valley</td>\n",
       "      <td>Willamette Valley</td>\n",
       "      <td>Paul Gregutt</td>\n",
       "      <td>@paulgwine</td>\n",
       "      <td>Sweet Cheeks 2012 Vintner's Reserve Wild Child...</td>\n",
       "      <td>Pinot Noir</td>\n",
       "      <td>Sweet Cheeks</td>\n",
       "    </tr>\n",
       "  </tbody>\n",
       "</table>\n",
       "</div>"
      ],
      "text/plain": [
       "    country                                        description  \\\n",
       "0     Italy  Aromas include tropical fruit, broom, brimston...   \n",
       "1  Portugal  This is ripe and fruity, a wine that is smooth...   \n",
       "2        US  Tart and snappy, the flavors of lime flesh and...   \n",
       "3        US  Pineapple rind, lemon pith and orange blossom ...   \n",
       "4        US  Much like the regular bottling from 2012, this...   \n",
       "\n",
       "                          designation  points  price           province  \\\n",
       "0                        Vulkà Bianco      87    NaN  Sicily & Sardinia   \n",
       "1                            Avidagos      87   15.0              Douro   \n",
       "2                                 NaN      87   14.0             Oregon   \n",
       "3                Reserve Late Harvest      87   13.0           Michigan   \n",
       "4  Vintner's Reserve Wild Child Block      87   65.0             Oregon   \n",
       "\n",
       "              region_1           region_2         taster_name  \\\n",
       "0                 Etna                NaN       Kerin O’Keefe   \n",
       "1                  NaN                NaN          Roger Voss   \n",
       "2    Willamette Valley  Willamette Valley        Paul Gregutt   \n",
       "3  Lake Michigan Shore                NaN  Alexander Peartree   \n",
       "4    Willamette Valley  Willamette Valley        Paul Gregutt   \n",
       "\n",
       "  taster_twitter_handle                                              title  \\\n",
       "0          @kerinokeefe                  Nicosia 2013 Vulkà Bianco  (Etna)   \n",
       "1            @vossroger      Quinta dos Avidagos 2011 Avidagos Red (Douro)   \n",
       "2           @paulgwine       Rainstorm 2013 Pinot Gris (Willamette Valley)   \n",
       "3                   NaN  St. Julian 2013 Reserve Late Harvest Riesling ...   \n",
       "4           @paulgwine   Sweet Cheeks 2012 Vintner's Reserve Wild Child...   \n",
       "\n",
       "          variety               winery  \n",
       "0     White Blend              Nicosia  \n",
       "1  Portuguese Red  Quinta dos Avidagos  \n",
       "2      Pinot Gris            Rainstorm  \n",
       "3        Riesling           St. Julian  \n",
       "4      Pinot Noir         Sweet Cheeks  "
      ]
     },
     "execution_count": 1,
     "metadata": {},
     "output_type": "execute_result"
    }
   ],
   "source": [
    "import pandas as pd\n",
    "pd.set_option(\"display.max_rows\", 5)\n",
    "reviews = pd.read_csv(\"../input/wine-reviews/winemag-data-130k-v2.csv\", index_col=0)\n",
    "\n",
    "from learntools.core import binder; binder.bind(globals())\n",
    "from learntools.pandas.summary_functions_and_maps import *\n",
    "print(\"Setup complete.\")\n",
    "\n",
    "reviews.head()"
   ]
  },
  {
   "cell_type": "markdown",
   "id": "9b29b19f",
   "metadata": {
    "papermill": {
     "duration": 0.019947,
     "end_time": "2022-01-16T12:57:01.647377",
     "exception": false,
     "start_time": "2022-01-16T12:57:01.627430",
     "status": "completed"
    },
    "tags": []
   },
   "source": [
    "# Exercises"
   ]
  },
  {
   "cell_type": "markdown",
   "id": "0dd67d80",
   "metadata": {
    "papermill": {
     "duration": 0.019213,
     "end_time": "2022-01-16T12:57:01.686476",
     "exception": false,
     "start_time": "2022-01-16T12:57:01.667263",
     "status": "completed"
    },
    "tags": []
   },
   "source": [
    "## 1.\n",
    "\n",
    "What is the median of the `points` column in the `reviews` DataFrame?"
   ]
  },
  {
   "cell_type": "code",
   "execution_count": null,
   "id": "228e016f",
   "metadata": {
    "papermill": {
     "duration": 0.020171,
     "end_time": "2022-01-16T12:57:01.726229",
     "exception": false,
     "start_time": "2022-01-16T12:57:01.706058",
     "status": "completed"
    },
    "tags": []
   },
   "outputs": [],
   "source": []
  },
  {
   "cell_type": "code",
   "execution_count": 2,
   "id": "1ec38206",
   "metadata": {
    "execution": {
     "iopub.execute_input": "2022-01-16T12:57:01.771247Z",
     "iopub.status.busy": "2022-01-16T12:57:01.770231Z",
     "iopub.status.idle": "2022-01-16T12:57:01.777375Z",
     "shell.execute_reply": "2022-01-16T12:57:01.777972Z",
     "shell.execute_reply.started": "2022-01-16T12:08:06.968051Z"
    },
    "papermill": {
     "duration": 0.032331,
     "end_time": "2022-01-16T12:57:01.778148",
     "exception": false,
     "start_time": "2022-01-16T12:57:01.745817",
     "status": "completed"
    },
    "tags": []
   },
   "outputs": [
    {
     "data": {
      "application/javascript": [
       "parent.postMessage({\"jupyterEvent\": \"custom.exercise_interaction\", \"data\": {\"outcomeType\": 1, \"valueTowardsCompletion\": 0.14285714285714285, \"interactionType\": 1, \"questionType\": 1, \"questionId\": \"1_MedianPoints\", \"learnToolsVersion\": \"0.3.4\", \"failureMessage\": \"\", \"exceptionClass\": \"\", \"trace\": \"\"}}, \"*\")"
      ],
      "text/plain": [
       "<IPython.core.display.Javascript object>"
      ]
     },
     "metadata": {},
     "output_type": "display_data"
    },
    {
     "data": {
      "text/markdown": [
       "<span style=\"color:#33cc33\">Correct</span>"
      ],
      "text/plain": [
       "Correct"
      ]
     },
     "metadata": {},
     "output_type": "display_data"
    }
   ],
   "source": [
    "median_points =reviews.points.median()\n",
    "\n",
    "# Check your answer\n",
    "q1.check()"
   ]
  },
  {
   "cell_type": "code",
   "execution_count": 3,
   "id": "88bc2b50",
   "metadata": {
    "execution": {
     "iopub.execute_input": "2022-01-16T12:57:01.824089Z",
     "iopub.status.busy": "2022-01-16T12:57:01.823147Z",
     "iopub.status.idle": "2022-01-16T12:57:01.826284Z",
     "shell.execute_reply": "2022-01-16T12:57:01.826795Z"
    },
    "papermill": {
     "duration": 0.027832,
     "end_time": "2022-01-16T12:57:01.826964",
     "exception": false,
     "start_time": "2022-01-16T12:57:01.799132",
     "status": "completed"
    },
    "tags": []
   },
   "outputs": [],
   "source": [
    "#q1.hint()\n",
    "#q1.solution()"
   ]
  },
  {
   "cell_type": "markdown",
   "id": "031eb41e",
   "metadata": {
    "papermill": {
     "duration": 0.020456,
     "end_time": "2022-01-16T12:57:01.867923",
     "exception": false,
     "start_time": "2022-01-16T12:57:01.847467",
     "status": "completed"
    },
    "tags": []
   },
   "source": [
    "## 2. \n",
    "What countries are represented in the dataset? (Your answer should not include any duplicates.)"
   ]
  },
  {
   "cell_type": "code",
   "execution_count": 4,
   "id": "3152ae57",
   "metadata": {
    "execution": {
     "iopub.execute_input": "2022-01-16T12:57:01.915532Z",
     "iopub.status.busy": "2022-01-16T12:57:01.914565Z",
     "iopub.status.idle": "2022-01-16T12:57:01.934474Z",
     "shell.execute_reply": "2022-01-16T12:57:01.934995Z",
     "shell.execute_reply.started": "2022-01-16T12:08:35.363623Z"
    },
    "papermill": {
     "duration": 0.045559,
     "end_time": "2022-01-16T12:57:01.935174",
     "exception": false,
     "start_time": "2022-01-16T12:57:01.889615",
     "status": "completed"
    },
    "tags": []
   },
   "outputs": [
    {
     "data": {
      "application/javascript": [
       "parent.postMessage({\"jupyterEvent\": \"custom.exercise_interaction\", \"data\": {\"outcomeType\": 1, \"valueTowardsCompletion\": 0.14285714285714285, \"interactionType\": 1, \"questionType\": 2, \"questionId\": \"2_UniqueCountries\", \"learnToolsVersion\": \"0.3.4\", \"failureMessage\": \"\", \"exceptionClass\": \"\", \"trace\": \"\"}}, \"*\")"
      ],
      "text/plain": [
       "<IPython.core.display.Javascript object>"
      ]
     },
     "metadata": {},
     "output_type": "display_data"
    },
    {
     "data": {
      "text/markdown": [
       "<span style=\"color:#33cc33\">Correct</span>"
      ],
      "text/plain": [
       "Correct"
      ]
     },
     "metadata": {},
     "output_type": "display_data"
    }
   ],
   "source": [
    "countries = reviews.country.unique()\n",
    "\n",
    "# Check your answer\n",
    "q2.check()"
   ]
  },
  {
   "cell_type": "code",
   "execution_count": 5,
   "id": "40bca1f2",
   "metadata": {
    "execution": {
     "iopub.execute_input": "2022-01-16T12:57:01.982415Z",
     "iopub.status.busy": "2022-01-16T12:57:01.981565Z",
     "iopub.status.idle": "2022-01-16T12:57:01.984417Z",
     "shell.execute_reply": "2022-01-16T12:57:01.984949Z"
    },
    "papermill": {
     "duration": 0.028615,
     "end_time": "2022-01-16T12:57:01.985119",
     "exception": false,
     "start_time": "2022-01-16T12:57:01.956504",
     "status": "completed"
    },
    "tags": []
   },
   "outputs": [],
   "source": [
    "#q2.hint()\n",
    "#q2.solution()"
   ]
  },
  {
   "cell_type": "markdown",
   "id": "31e79410",
   "metadata": {
    "papermill": {
     "duration": 0.021574,
     "end_time": "2022-01-16T12:57:02.030712",
     "exception": false,
     "start_time": "2022-01-16T12:57:02.009138",
     "status": "completed"
    },
    "tags": []
   },
   "source": [
    "## 3.\n",
    "How often does each country appear in the dataset? Create a Series `reviews_per_country` mapping countries to the count of reviews of wines from that country."
   ]
  },
  {
   "cell_type": "code",
   "execution_count": 6,
   "id": "8ac8b563",
   "metadata": {
    "execution": {
     "iopub.execute_input": "2022-01-16T12:57:02.077566Z",
     "iopub.status.busy": "2022-01-16T12:57:02.076613Z",
     "iopub.status.idle": "2022-01-16T12:57:02.103235Z",
     "shell.execute_reply": "2022-01-16T12:57:02.103719Z",
     "shell.execute_reply.started": "2022-01-16T12:10:21.568312Z"
    },
    "papermill": {
     "duration": 0.051619,
     "end_time": "2022-01-16T12:57:02.103912",
     "exception": false,
     "start_time": "2022-01-16T12:57:02.052293",
     "status": "completed"
    },
    "tags": []
   },
   "outputs": [
    {
     "data": {
      "application/javascript": [
       "parent.postMessage({\"jupyterEvent\": \"custom.exercise_interaction\", \"data\": {\"outcomeType\": 1, \"valueTowardsCompletion\": 0.14285714285714285, \"interactionType\": 1, \"questionType\": 1, \"questionId\": \"3_ReviewsPerCountry\", \"learnToolsVersion\": \"0.3.4\", \"failureMessage\": \"\", \"exceptionClass\": \"\", \"trace\": \"\"}}, \"*\")"
      ],
      "text/plain": [
       "<IPython.core.display.Javascript object>"
      ]
     },
     "metadata": {},
     "output_type": "display_data"
    },
    {
     "data": {
      "text/markdown": [
       "<span style=\"color:#33cc33\">Correct</span>"
      ],
      "text/plain": [
       "Correct"
      ]
     },
     "metadata": {},
     "output_type": "display_data"
    }
   ],
   "source": [
    "reviews_per_country = reviews.country.value_counts()\n",
    "\n",
    "# Check your answer\n",
    "q3.check()"
   ]
  },
  {
   "cell_type": "code",
   "execution_count": 7,
   "id": "68a766d8",
   "metadata": {
    "execution": {
     "iopub.execute_input": "2022-01-16T12:57:02.153851Z",
     "iopub.status.busy": "2022-01-16T12:57:02.153057Z",
     "iopub.status.idle": "2022-01-16T12:57:02.155913Z",
     "shell.execute_reply": "2022-01-16T12:57:02.155355Z"
    },
    "papermill": {
     "duration": 0.029538,
     "end_time": "2022-01-16T12:57:02.156054",
     "exception": false,
     "start_time": "2022-01-16T12:57:02.126516",
     "status": "completed"
    },
    "tags": []
   },
   "outputs": [],
   "source": [
    "#q3.hint()\n",
    "#q3.solution()"
   ]
  },
  {
   "cell_type": "markdown",
   "id": "5eb93e9b",
   "metadata": {
    "papermill": {
     "duration": 0.022133,
     "end_time": "2022-01-16T12:57:02.200875",
     "exception": false,
     "start_time": "2022-01-16T12:57:02.178742",
     "status": "completed"
    },
    "tags": []
   },
   "source": [
    "## 4.\n",
    "Create variable `centered_price` containing a version of the `price` column with the mean price subtracted.\n",
    "\n",
    "(Note: this 'centering' transformation is a common preprocessing step before applying various machine learning algorithms.) "
   ]
  },
  {
   "cell_type": "code",
   "execution_count": 8,
   "id": "0efcd8c2",
   "metadata": {
    "execution": {
     "iopub.execute_input": "2022-01-16T12:57:02.251249Z",
     "iopub.status.busy": "2022-01-16T12:57:02.250461Z",
     "iopub.status.idle": "2022-01-16T12:57:02.258411Z",
     "shell.execute_reply": "2022-01-16T12:57:02.257869Z",
     "shell.execute_reply.started": "2022-01-16T12:11:03.583083Z"
    },
    "papermill": {
     "duration": 0.0351,
     "end_time": "2022-01-16T12:57:02.258549",
     "exception": false,
     "start_time": "2022-01-16T12:57:02.223449",
     "status": "completed"
    },
    "tags": []
   },
   "outputs": [
    {
     "data": {
      "application/javascript": [
       "parent.postMessage({\"jupyterEvent\": \"custom.exercise_interaction\", \"data\": {\"outcomeType\": 1, \"valueTowardsCompletion\": 0.14285714285714285, \"interactionType\": 1, \"questionType\": 1, \"questionId\": \"4_CenteredPrice\", \"learnToolsVersion\": \"0.3.4\", \"failureMessage\": \"\", \"exceptionClass\": \"\", \"trace\": \"\"}}, \"*\")"
      ],
      "text/plain": [
       "<IPython.core.display.Javascript object>"
      ]
     },
     "metadata": {},
     "output_type": "display_data"
    },
    {
     "data": {
      "text/markdown": [
       "<span style=\"color:#33cc33\">Correct</span>"
      ],
      "text/plain": [
       "Correct"
      ]
     },
     "metadata": {},
     "output_type": "display_data"
    }
   ],
   "source": [
    "centered_price = reviews.price-reviews.price.mean()\n",
    "\n",
    "# Check your answer\n",
    "q4.check()"
   ]
  },
  {
   "cell_type": "code",
   "execution_count": 9,
   "id": "2778b0e3",
   "metadata": {
    "execution": {
     "iopub.execute_input": "2022-01-16T12:57:02.310952Z",
     "iopub.status.busy": "2022-01-16T12:57:02.309928Z",
     "iopub.status.idle": "2022-01-16T12:57:02.312894Z",
     "shell.execute_reply": "2022-01-16T12:57:02.312264Z"
    },
    "papermill": {
     "duration": 0.030672,
     "end_time": "2022-01-16T12:57:02.313035",
     "exception": false,
     "start_time": "2022-01-16T12:57:02.282363",
     "status": "completed"
    },
    "tags": []
   },
   "outputs": [],
   "source": [
    "#q4.hint()\n",
    "#q4.solution()"
   ]
  },
  {
   "cell_type": "markdown",
   "id": "1b78a58b",
   "metadata": {
    "papermill": {
     "duration": 0.023419,
     "end_time": "2022-01-16T12:57:02.360294",
     "exception": false,
     "start_time": "2022-01-16T12:57:02.336875",
     "status": "completed"
    },
    "tags": []
   },
   "source": [
    "## 5.\n",
    "I'm an economical wine buyer. Which wine is the \"best bargain\"? Create a variable `bargain_wine` with the title of the wine with the highest points-to-price ratio in the dataset."
   ]
  },
  {
   "cell_type": "code",
   "execution_count": 10,
   "id": "c4c8401c",
   "metadata": {
    "execution": {
     "iopub.execute_input": "2022-01-16T12:57:02.413611Z",
     "iopub.status.busy": "2022-01-16T12:57:02.412938Z",
     "iopub.status.idle": "2022-01-16T12:57:02.420480Z",
     "shell.execute_reply": "2022-01-16T12:57:02.420964Z",
     "shell.execute_reply.started": "2022-01-16T12:32:11.004077Z"
    },
    "papermill": {
     "duration": 0.037091,
     "end_time": "2022-01-16T12:57:02.421135",
     "exception": false,
     "start_time": "2022-01-16T12:57:02.384044",
     "status": "completed"
    },
    "tags": []
   },
   "outputs": [
    {
     "data": {
      "application/javascript": [
       "parent.postMessage({\"jupyterEvent\": \"custom.exercise_interaction\", \"data\": {\"outcomeType\": 1, \"valueTowardsCompletion\": 0.14285714285714285, \"interactionType\": 1, \"questionType\": 2, \"questionId\": \"5_BargainWine\", \"learnToolsVersion\": \"0.3.4\", \"failureMessage\": \"\", \"exceptionClass\": \"\", \"trace\": \"\"}}, \"*\")"
      ],
      "text/plain": [
       "<IPython.core.display.Javascript object>"
      ]
     },
     "metadata": {},
     "output_type": "display_data"
    },
    {
     "data": {
      "text/markdown": [
       "<span style=\"color:#33cc33\">Correct</span>"
      ],
      "text/plain": [
       "Correct"
      ]
     },
     "metadata": {},
     "output_type": "display_data"
    }
   ],
   "source": [
    "max_ratio = (reviews.points/reviews.price).idxmax()\n",
    "bargain_wine=reviews.loc[max_ratio,'title']\n",
    "\n",
    "\n",
    "\n",
    "# Check your answer\n",
    "q5.check()"
   ]
  },
  {
   "cell_type": "code",
   "execution_count": 11,
   "id": "0eadaf3c",
   "metadata": {
    "execution": {
     "iopub.execute_input": "2022-01-16T12:57:02.476897Z",
     "iopub.status.busy": "2022-01-16T12:57:02.476232Z",
     "iopub.status.idle": "2022-01-16T12:57:02.481903Z",
     "shell.execute_reply": "2022-01-16T12:57:02.482411Z",
     "shell.execute_reply.started": "2022-01-16T12:19:34.354689Z"
    },
    "papermill": {
     "duration": 0.035698,
     "end_time": "2022-01-16T12:57:02.482596",
     "exception": false,
     "start_time": "2022-01-16T12:57:02.446898",
     "status": "completed"
    },
    "tags": []
   },
   "outputs": [
    {
     "data": {
      "application/javascript": [
       "parent.postMessage({\"jupyterEvent\": \"custom.exercise_interaction\", \"data\": {\"interactionType\": 3, \"questionType\": 2, \"questionId\": \"5_BargainWine\", \"learnToolsVersion\": \"0.3.4\", \"valueTowardsCompletion\": 0.0, \"failureMessage\": \"\", \"exceptionClass\": \"\", \"trace\": \"\", \"outcomeType\": 4}}, \"*\")"
      ],
      "text/plain": [
       "<IPython.core.display.Javascript object>"
      ]
     },
     "metadata": {},
     "output_type": "display_data"
    },
    {
     "data": {
      "text/markdown": [
       "<span style=\"color:#33cc99\">Solution:</span> \n",
       "```python\n",
       "bargain_idx = (reviews.points / reviews.price).idxmax()\n",
       "bargain_wine = reviews.loc[bargain_idx, 'title']\n",
       "```"
      ],
      "text/plain": [
       "Solution: \n",
       "```python\n",
       "bargain_idx = (reviews.points / reviews.price).idxmax()\n",
       "bargain_wine = reviews.loc[bargain_idx, 'title']\n",
       "```"
      ]
     },
     "metadata": {},
     "output_type": "display_data"
    }
   ],
   "source": [
    "#q5.hint()\n",
    "q5.solution()"
   ]
  },
  {
   "cell_type": "markdown",
   "id": "2f1a699f",
   "metadata": {
    "papermill": {
     "duration": 0.025704,
     "end_time": "2022-01-16T12:57:02.534445",
     "exception": false,
     "start_time": "2022-01-16T12:57:02.508741",
     "status": "completed"
    },
    "tags": []
   },
   "source": [
    "## 6.\n",
    "There are only so many words you can use when describing a bottle of wine. Is a wine more likely to be \"tropical\" or \"fruity\"? Create a Series `descriptor_counts` counting how many times each of these two words appears in the `description` column in the dataset. (For simplicity, let's ignore the capitalized versions of these words.)"
   ]
  },
  {
   "cell_type": "code",
   "execution_count": 12,
   "id": "0da3851e",
   "metadata": {
    "execution": {
     "iopub.execute_input": "2022-01-16T12:57:02.593262Z",
     "iopub.status.busy": "2022-01-16T12:57:02.592045Z",
     "iopub.status.idle": "2022-01-16T12:57:02.743752Z",
     "shell.execute_reply": "2022-01-16T12:57:02.744261Z",
     "shell.execute_reply.started": "2022-01-16T12:43:08.513546Z"
    },
    "papermill": {
     "duration": 0.184002,
     "end_time": "2022-01-16T12:57:02.744441",
     "exception": false,
     "start_time": "2022-01-16T12:57:02.560439",
     "status": "completed"
    },
    "tags": []
   },
   "outputs": [
    {
     "data": {
      "application/javascript": [
       "parent.postMessage({\"jupyterEvent\": \"custom.exercise_interaction\", \"data\": {\"outcomeType\": 1, \"valueTowardsCompletion\": 0.14285714285714285, \"interactionType\": 1, \"questionType\": 1, \"questionId\": \"6_DescriptorCounts\", \"learnToolsVersion\": \"0.3.4\", \"failureMessage\": \"\", \"exceptionClass\": \"\", \"trace\": \"\"}}, \"*\")"
      ],
      "text/plain": [
       "<IPython.core.display.Javascript object>"
      ]
     },
     "metadata": {},
     "output_type": "display_data"
    },
    {
     "data": {
      "text/markdown": [
       "<span style=\"color:#33cc33\">Correct</span>"
      ],
      "text/plain": [
       "Correct"
      ]
     },
     "metadata": {},
     "output_type": "display_data"
    }
   ],
   "source": [
    "n_tropical = reviews.description.map(lambda p: \"tropical\" in p).sum()\n",
    "n_fruity = reviews.description.map(lambda p: \"fruity\" in p).sum()\n",
    "descriptor_counts = pd.Series([n_tropical, n_fruity], index=['tropical', 'fruity'])\n",
    "\n",
    "# Check your answer\n",
    "q6.check()"
   ]
  },
  {
   "cell_type": "code",
   "execution_count": 13,
   "id": "8a0b3a51",
   "metadata": {
    "execution": {
     "iopub.execute_input": "2022-01-16T12:57:02.803845Z",
     "iopub.status.busy": "2022-01-16T12:57:02.802865Z",
     "iopub.status.idle": "2022-01-16T12:57:02.810155Z",
     "shell.execute_reply": "2022-01-16T12:57:02.810750Z",
     "shell.execute_reply.started": "2022-01-16T12:37:58.079377Z"
    },
    "papermill": {
     "duration": 0.037917,
     "end_time": "2022-01-16T12:57:02.810917",
     "exception": false,
     "start_time": "2022-01-16T12:57:02.773000",
     "status": "completed"
    },
    "tags": []
   },
   "outputs": [
    {
     "data": {
      "application/javascript": [
       "parent.postMessage({\"jupyterEvent\": \"custom.exercise_interaction\", \"data\": {\"interactionType\": 3, \"questionType\": 1, \"questionId\": \"6_DescriptorCounts\", \"learnToolsVersion\": \"0.3.4\", \"valueTowardsCompletion\": 0.0, \"failureMessage\": \"\", \"exceptionClass\": \"\", \"trace\": \"\", \"outcomeType\": 4}}, \"*\")"
      ],
      "text/plain": [
       "<IPython.core.display.Javascript object>"
      ]
     },
     "metadata": {},
     "output_type": "display_data"
    },
    {
     "data": {
      "text/markdown": [
       "<span style=\"color:#33cc99\">Solution:</span> \n",
       "```python\n",
       "n_trop = reviews.description.map(lambda desc: \"tropical\" in desc).sum()\n",
       "n_fruity = reviews.description.map(lambda desc: \"fruity\" in desc).sum()\n",
       "descriptor_counts = pd.Series([n_trop, n_fruity], index=['tropical', 'fruity'])\n",
       "```"
      ],
      "text/plain": [
       "Solution: \n",
       "```python\n",
       "n_trop = reviews.description.map(lambda desc: \"tropical\" in desc).sum()\n",
       "n_fruity = reviews.description.map(lambda desc: \"fruity\" in desc).sum()\n",
       "descriptor_counts = pd.Series([n_trop, n_fruity], index=['tropical', 'fruity'])\n",
       "```"
      ]
     },
     "metadata": {},
     "output_type": "display_data"
    }
   ],
   "source": [
    "#q6.hint()\n",
    "q6.solution()"
   ]
  },
  {
   "cell_type": "markdown",
   "id": "4241709b",
   "metadata": {
    "papermill": {
     "duration": 0.028226,
     "end_time": "2022-01-16T12:57:02.866820",
     "exception": false,
     "start_time": "2022-01-16T12:57:02.838594",
     "status": "completed"
    },
    "tags": []
   },
   "source": [
    "## 7.\n",
    "We'd like to host these wine reviews on our website, but a rating system ranging from 80 to 100 points is too hard to understand - we'd like to translate them into simple star ratings. A score of 95 or higher counts as 3 stars, a score of at least 85 but less than 95 is 2 stars. Any other score is 1 star.\n",
    "\n",
    "Also, the Canadian Vintners Association bought a lot of ads on the site, so any wines from Canada should automatically get 3 stars, regardless of points.\n",
    "\n",
    "Create a series `star_ratings` with the number of stars corresponding to each review in the dataset."
   ]
  },
  {
   "cell_type": "code",
   "execution_count": 14,
   "id": "b856a6d0",
   "metadata": {
    "execution": {
     "iopub.execute_input": "2022-01-16T12:57:02.941190Z",
     "iopub.status.busy": "2022-01-16T12:57:02.940234Z",
     "iopub.status.idle": "2022-01-16T12:57:07.770296Z",
     "shell.execute_reply": "2022-01-16T12:57:07.769743Z",
     "shell.execute_reply.started": "2022-01-16T12:56:10.485659Z"
    },
    "papermill": {
     "duration": 4.869549,
     "end_time": "2022-01-16T12:57:07.770528",
     "exception": false,
     "start_time": "2022-01-16T12:57:02.900979",
     "status": "completed"
    },
    "tags": []
   },
   "outputs": [
    {
     "data": {
      "application/javascript": [
       "parent.postMessage({\"jupyterEvent\": \"custom.exercise_interaction\", \"data\": {\"outcomeType\": 1, \"valueTowardsCompletion\": 0.14285714285714285, \"interactionType\": 1, \"questionType\": 1, \"questionId\": \"7_StarRatings\", \"learnToolsVersion\": \"0.3.4\", \"failureMessage\": \"\", \"exceptionClass\": \"\", \"trace\": \"\"}}, \"*\")"
      ],
      "text/plain": [
       "<IPython.core.display.Javascript object>"
      ]
     },
     "metadata": {},
     "output_type": "display_data"
    },
    {
     "data": {
      "text/markdown": [
       "<span style=\"color:#33cc33\">Correct</span>"
      ],
      "text/plain": [
       "Correct"
      ]
     },
     "metadata": {},
     "output_type": "display_data"
    }
   ],
   "source": [
    "\n",
    "def stars(row):\n",
    "    if row.country==\"Canada\":\n",
    "        return 3\n",
    "    elif row.points>=95:\n",
    "        return 3\n",
    "    elif row.points>=85 :\n",
    "        return 2\n",
    "    else:\n",
    "        return 1\n",
    "    \n",
    "star_ratings=reviews.apply(stars,axis='columns')\n",
    "\n",
    "# Check your answer\n",
    "q7.check()"
   ]
  },
  {
   "cell_type": "code",
   "execution_count": 15,
   "id": "083a6ef7",
   "metadata": {
    "execution": {
     "iopub.execute_input": "2022-01-16T12:57:07.835635Z",
     "iopub.status.busy": "2022-01-16T12:57:07.834884Z",
     "iopub.status.idle": "2022-01-16T12:57:07.838231Z",
     "shell.execute_reply": "2022-01-16T12:57:07.837633Z"
    },
    "papermill": {
     "duration": 0.036537,
     "end_time": "2022-01-16T12:57:07.838380",
     "exception": false,
     "start_time": "2022-01-16T12:57:07.801843",
     "status": "completed"
    },
    "tags": []
   },
   "outputs": [],
   "source": [
    "#q7.hint()\n",
    "#q7.solution()"
   ]
  },
  {
   "cell_type": "markdown",
   "id": "5e0089a9",
   "metadata": {
    "papermill": {
     "duration": 0.028252,
     "end_time": "2022-01-16T12:57:07.895971",
     "exception": false,
     "start_time": "2022-01-16T12:57:07.867719",
     "status": "completed"
    },
    "tags": []
   },
   "source": [
    "# Keep going\n",
    "Continue to **[grouping and sorting](https://www.kaggle.com/residentmario/grouping-and-sorting)**."
   ]
  },
  {
   "cell_type": "markdown",
   "id": "6df28c34",
   "metadata": {
    "papermill": {
     "duration": 0.029189,
     "end_time": "2022-01-16T12:57:07.953920",
     "exception": false,
     "start_time": "2022-01-16T12:57:07.924731",
     "status": "completed"
    },
    "tags": []
   },
   "source": [
    "---\n",
    "\n",
    "\n",
    "\n",
    "\n",
    "*Have questions or comments? Visit the [course discussion forum](https://www.kaggle.com/learn/pandas/discussion) to chat with other learners.*"
   ]
  }
 ],
 "metadata": {
  "kernelspec": {
   "display_name": "Python 3",
   "language": "python",
   "name": "python3"
  },
  "language_info": {
   "codemirror_mode": {
    "name": "ipython",
    "version": 3
   },
   "file_extension": ".py",
   "mimetype": "text/x-python",
   "name": "python",
   "nbconvert_exporter": "python",
   "pygments_lexer": "ipython3",
   "version": "3.7.12"
  },
  "papermill": {
   "default_parameters": {},
   "duration": 25.719386,
   "end_time": "2022-01-16T12:57:08.693666",
   "environment_variables": {},
   "exception": null,
   "input_path": "__notebook__.ipynb",
   "output_path": "__notebook__.ipynb",
   "parameters": {},
   "start_time": "2022-01-16T12:56:42.974280",
   "version": "2.3.3"
  }
 },
 "nbformat": 4,
 "nbformat_minor": 5
}
