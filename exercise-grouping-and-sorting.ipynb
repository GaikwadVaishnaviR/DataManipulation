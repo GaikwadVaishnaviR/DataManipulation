{
 "cells": [
  {
   "cell_type": "markdown",
   "id": "476a680b",
   "metadata": {
    "papermill": {
     "duration": 0.014439,
     "end_time": "2022-01-16T14:41:04.864757",
     "exception": false,
     "start_time": "2022-01-16T14:41:04.850318",
     "status": "completed"
    },
    "tags": []
   },
   "source": [
    "**This notebook is an exercise in the [Pandas](https://www.kaggle.com/learn/pandas) course.  You can reference the tutorial at [this link](https://www.kaggle.com/residentmario/grouping-and-sorting).**\n",
    "\n",
    "---\n"
   ]
  },
  {
   "cell_type": "markdown",
   "id": "2cd6f291",
   "metadata": {
    "papermill": {
     "duration": 0.013343,
     "end_time": "2022-01-16T14:41:04.893477",
     "exception": false,
     "start_time": "2022-01-16T14:41:04.880134",
     "status": "completed"
    },
    "tags": []
   },
   "source": [
    "# Introduction\n",
    "\n",
    "In these exercises we'll apply groupwise analysis to our dataset.\n",
    "\n",
    "Run the code cell below to load the data before running the exercises."
   ]
  },
  {
   "cell_type": "code",
   "execution_count": 1,
   "id": "230787ee",
   "metadata": {
    "execution": {
     "iopub.execute_input": "2022-01-16T14:41:04.925734Z",
     "iopub.status.busy": "2022-01-16T14:41:04.924046Z",
     "iopub.status.idle": "2022-01-16T14:41:07.786477Z",
     "shell.execute_reply": "2022-01-16T14:41:07.785600Z",
     "shell.execute_reply.started": "2022-01-16T14:37:14.771128Z"
    },
    "papermill": {
     "duration": 2.879954,
     "end_time": "2022-01-16T14:41:07.786721",
     "exception": false,
     "start_time": "2022-01-16T14:41:04.906767",
     "status": "completed"
    },
    "tags": []
   },
   "outputs": [
    {
     "name": "stdout",
     "output_type": "stream",
     "text": [
      "Setup complete.\n"
     ]
    }
   ],
   "source": [
    "import pandas as pd\n",
    "\n",
    "reviews = pd.read_csv(\"../input/wine-reviews/winemag-data-130k-v2.csv\", index_col=0)\n",
    "#pd.set_option(\"display.max_rows\", 5)\n",
    "\n",
    "from learntools.core import binder; binder.bind(globals())\n",
    "from learntools.pandas.grouping_and_sorting import *\n",
    "print(\"Setup complete.\")"
   ]
  },
  {
   "cell_type": "markdown",
   "id": "70747033",
   "metadata": {
    "papermill": {
     "duration": 0.012528,
     "end_time": "2022-01-16T14:41:07.813037",
     "exception": false,
     "start_time": "2022-01-16T14:41:07.800509",
     "status": "completed"
    },
    "tags": []
   },
   "source": [
    "# Exercises"
   ]
  },
  {
   "cell_type": "markdown",
   "id": "f874088f",
   "metadata": {
    "papermill": {
     "duration": 0.012601,
     "end_time": "2022-01-16T14:41:07.838472",
     "exception": false,
     "start_time": "2022-01-16T14:41:07.825871",
     "status": "completed"
    },
    "tags": []
   },
   "source": [
    "## 1.\n",
    "Who are the most common wine reviewers in the dataset? Create a `Series` whose index is the `taster_twitter_handle` category from the dataset, and whose values count how many reviews each person wrote."
   ]
  },
  {
   "cell_type": "code",
   "execution_count": 2,
   "id": "ad446ad5",
   "metadata": {
    "execution": {
     "iopub.execute_input": "2022-01-16T14:41:07.869665Z",
     "iopub.status.busy": "2022-01-16T14:41:07.868609Z",
     "iopub.status.idle": "2022-01-16T14:41:07.894180Z",
     "shell.execute_reply": "2022-01-16T14:41:07.894685Z",
     "shell.execute_reply.started": "2022-01-16T14:37:22.930950Z"
    },
    "papermill": {
     "duration": 0.043514,
     "end_time": "2022-01-16T14:41:07.894854",
     "exception": false,
     "start_time": "2022-01-16T14:41:07.851340",
     "status": "completed"
    },
    "tags": []
   },
   "outputs": [
    {
     "data": {
      "application/javascript": [
       "parent.postMessage({\"jupyterEvent\": \"custom.exercise_interaction\", \"data\": {\"outcomeType\": 1, \"valueTowardsCompletion\": 0.16666666666666666, \"interactionType\": 1, \"questionType\": 1, \"questionId\": \"1_ReviewsWritten\", \"learnToolsVersion\": \"0.3.4\", \"failureMessage\": \"\", \"exceptionClass\": \"\", \"trace\": \"\"}}, \"*\")"
      ],
      "text/plain": [
       "<IPython.core.display.Javascript object>"
      ]
     },
     "metadata": {},
     "output_type": "display_data"
    },
    {
     "data": {
      "text/markdown": [
       "<span style=\"color:#33cc33\">Correct:</span> \n",
       "\n",
       "\n",
       "```python\n",
       "reviews_written = reviews.groupby('taster_twitter_handle').size()\n",
       "```\n",
       "or\n",
       "```python\n",
       "reviews_written = reviews.groupby('taster_twitter_handle').taster_twitter_handle.count()\n",
       "```\n"
      ],
      "text/plain": [
       "Correct: \n",
       "\n",
       "\n",
       "```python\n",
       "reviews_written = reviews.groupby('taster_twitter_handle').size()\n",
       "```\n",
       "or\n",
       "```python\n",
       "reviews_written = reviews.groupby('taster_twitter_handle').taster_twitter_handle.count()\n",
       "```"
      ]
     },
     "metadata": {},
     "output_type": "display_data"
    }
   ],
   "source": [
    "# Your code here\n",
    "reviews_written = reviews.groupby('taster_twitter_handle').taster_twitter_handle.count()\n",
    "\n",
    "# Check your answer\n",
    "q1.check()"
   ]
  },
  {
   "cell_type": "code",
   "execution_count": 3,
   "id": "78961672",
   "metadata": {
    "execution": {
     "iopub.execute_input": "2022-01-16T14:41:07.926295Z",
     "iopub.status.busy": "2022-01-16T14:41:07.925722Z",
     "iopub.status.idle": "2022-01-16T14:41:07.927886Z",
     "shell.execute_reply": "2022-01-16T14:41:07.928364Z"
    },
    "papermill": {
     "duration": 0.020091,
     "end_time": "2022-01-16T14:41:07.928524",
     "exception": false,
     "start_time": "2022-01-16T14:41:07.908433",
     "status": "completed"
    },
    "tags": []
   },
   "outputs": [],
   "source": [
    "#q1.hint()\n",
    "#q1.solution()"
   ]
  },
  {
   "cell_type": "markdown",
   "id": "69517ab3",
   "metadata": {
    "papermill": {
     "duration": 0.0133,
     "end_time": "2022-01-16T14:41:07.955556",
     "exception": false,
     "start_time": "2022-01-16T14:41:07.942256",
     "status": "completed"
    },
    "tags": []
   },
   "source": [
    "## 2.\n",
    "What is the best wine I can buy for a given amount of money? Create a `Series` whose index is wine prices and whose values is the maximum number of points a wine costing that much was given in a review. Sort the values by price, ascending (so that `4.0` dollars is at the top and `3300.0` dollars is at the bottom)."
   ]
  },
  {
   "cell_type": "code",
   "execution_count": 4,
   "id": "da318431",
   "metadata": {
    "execution": {
     "iopub.execute_input": "2022-01-16T14:41:07.986785Z",
     "iopub.status.busy": "2022-01-16T14:41:07.986158Z",
     "iopub.status.idle": "2022-01-16T14:41:07.996672Z",
     "shell.execute_reply": "2022-01-16T14:41:07.997159Z",
     "shell.execute_reply.started": "2022-01-16T14:37:28.417569Z"
    },
    "papermill": {
     "duration": 0.027577,
     "end_time": "2022-01-16T14:41:07.997324",
     "exception": false,
     "start_time": "2022-01-16T14:41:07.969747",
     "status": "completed"
    },
    "tags": []
   },
   "outputs": [
    {
     "data": {
      "application/javascript": [
       "parent.postMessage({\"jupyterEvent\": \"custom.exercise_interaction\", \"data\": {\"outcomeType\": 1, \"valueTowardsCompletion\": 0.16666666666666666, \"interactionType\": 1, \"questionType\": 1, \"questionId\": \"2_BestRatingPerPrice\", \"learnToolsVersion\": \"0.3.4\", \"failureMessage\": \"\", \"exceptionClass\": \"\", \"trace\": \"\"}}, \"*\")"
      ],
      "text/plain": [
       "<IPython.core.display.Javascript object>"
      ]
     },
     "metadata": {},
     "output_type": "display_data"
    },
    {
     "data": {
      "text/markdown": [
       "<span style=\"color:#33cc33\">Correct</span>"
      ],
      "text/plain": [
       "Correct"
      ]
     },
     "metadata": {},
     "output_type": "display_data"
    }
   ],
   "source": [
    "best_rating_per_price= reviews.groupby('price').points.max().sort_index()\n",
    "\n",
    "\n",
    "# Check your answer\n",
    "q2.check()"
   ]
  },
  {
   "cell_type": "code",
   "execution_count": 5,
   "id": "6785d7b4",
   "metadata": {
    "execution": {
     "iopub.execute_input": "2022-01-16T14:41:08.029719Z",
     "iopub.status.busy": "2022-01-16T14:41:08.029069Z",
     "iopub.status.idle": "2022-01-16T14:41:08.035148Z",
     "shell.execute_reply": "2022-01-16T14:41:08.035642Z",
     "shell.execute_reply.started": "2022-01-16T13:41:48.942949Z"
    },
    "papermill": {
     "duration": 0.024041,
     "end_time": "2022-01-16T14:41:08.035831",
     "exception": false,
     "start_time": "2022-01-16T14:41:08.011790",
     "status": "completed"
    },
    "tags": []
   },
   "outputs": [
    {
     "data": {
      "application/javascript": [
       "parent.postMessage({\"jupyterEvent\": \"custom.exercise_interaction\", \"data\": {\"interactionType\": 3, \"questionType\": 1, \"questionId\": \"2_BestRatingPerPrice\", \"learnToolsVersion\": \"0.3.4\", \"valueTowardsCompletion\": 0.0, \"failureMessage\": \"\", \"exceptionClass\": \"\", \"trace\": \"\", \"outcomeType\": 4}}, \"*\")"
      ],
      "text/plain": [
       "<IPython.core.display.Javascript object>"
      ]
     },
     "metadata": {},
     "output_type": "display_data"
    },
    {
     "data": {
      "text/markdown": [
       "<span style=\"color:#33cc99\">Solution:</span> \n",
       "```python\n",
       "best_rating_per_price = reviews.groupby('price')['points'].max().sort_index()\n",
       "```"
      ],
      "text/plain": [
       "Solution: \n",
       "```python\n",
       "best_rating_per_price = reviews.groupby('price')['points'].max().sort_index()\n",
       "```"
      ]
     },
     "metadata": {},
     "output_type": "display_data"
    }
   ],
   "source": [
    "#q2.hint()\n",
    "q2.solution()"
   ]
  },
  {
   "cell_type": "raw",
   "id": "cc6f26f9",
   "metadata": {
    "papermill": {
     "duration": 0.015039,
     "end_time": "2022-01-16T14:41:08.066729",
     "exception": false,
     "start_time": "2022-01-16T14:41:08.051690",
     "status": "completed"
    },
    "tags": []
   },
   "source": [
    "# 3.What are the minimum and maximum prices for each `variety` of wine? Create a `DataFrame` whose index is the `variety` category from the dataset and whose values are the `min` and `max` values thereof."
   ]
  },
  {
   "cell_type": "code",
   "execution_count": 6,
   "id": "31e63d0a",
   "metadata": {
    "execution": {
     "iopub.execute_input": "2022-01-16T14:41:08.100128Z",
     "iopub.status.busy": "2022-01-16T14:41:08.099563Z",
     "iopub.status.idle": "2022-01-16T14:41:08.121095Z",
     "shell.execute_reply": "2022-01-16T14:41:08.121569Z",
     "shell.execute_reply.started": "2022-01-16T14:37:33.451845Z"
    },
    "papermill": {
     "duration": 0.039792,
     "end_time": "2022-01-16T14:41:08.121733",
     "exception": false,
     "start_time": "2022-01-16T14:41:08.081941",
     "status": "completed"
    },
    "tags": []
   },
   "outputs": [
    {
     "data": {
      "application/javascript": [
       "parent.postMessage({\"jupyterEvent\": \"custom.exercise_interaction\", \"data\": {\"outcomeType\": 1, \"valueTowardsCompletion\": 0.16666666666666666, \"interactionType\": 1, \"questionType\": 1, \"questionId\": \"3_PriceExtremes\", \"learnToolsVersion\": \"0.3.4\", \"failureMessage\": \"\", \"exceptionClass\": \"\", \"trace\": \"\"}}, \"*\")"
      ],
      "text/plain": [
       "<IPython.core.display.Javascript object>"
      ]
     },
     "metadata": {},
     "output_type": "display_data"
    },
    {
     "data": {
      "text/markdown": [
       "<span style=\"color:#33cc33\">Correct</span>"
      ],
      "text/plain": [
       "Correct"
      ]
     },
     "metadata": {},
     "output_type": "display_data"
    }
   ],
   "source": [
    "price_extremes=reviews.groupby('variety').price.agg([min,max])\n",
    "\n",
    "# Check your answer\n",
    "q3.check()"
   ]
  },
  {
   "cell_type": "code",
   "execution_count": 7,
   "id": "bbb6f999",
   "metadata": {
    "execution": {
     "iopub.execute_input": "2022-01-16T14:41:08.158139Z",
     "iopub.status.busy": "2022-01-16T14:41:08.157554Z",
     "iopub.status.idle": "2022-01-16T14:41:08.159390Z",
     "shell.execute_reply": "2022-01-16T14:41:08.159872Z"
    },
    "papermill": {
     "duration": 0.022089,
     "end_time": "2022-01-16T14:41:08.160032",
     "exception": false,
     "start_time": "2022-01-16T14:41:08.137943",
     "status": "completed"
    },
    "tags": []
   },
   "outputs": [],
   "source": [
    "#q3.hint()\n",
    "#q3.solution()"
   ]
  },
  {
   "cell_type": "markdown",
   "id": "e8d255aa",
   "metadata": {
    "papermill": {
     "duration": 0.015759,
     "end_time": "2022-01-16T14:41:08.191966",
     "exception": false,
     "start_time": "2022-01-16T14:41:08.176207",
     "status": "completed"
    },
    "tags": []
   },
   "source": [
    "## 4.\n",
    "What are the most expensive wine varieties? Create a variable `sorted_varieties` containing a copy of the dataframe from the previous question where varieties are sorted in descending order based on minimum price, then on maximum price (to break ties)."
   ]
  },
  {
   "cell_type": "code",
   "execution_count": 8,
   "id": "f23466c2",
   "metadata": {
    "execution": {
     "iopub.execute_input": "2022-01-16T14:41:08.226757Z",
     "iopub.status.busy": "2022-01-16T14:41:08.226209Z",
     "iopub.status.idle": "2022-01-16T14:41:08.234262Z",
     "shell.execute_reply": "2022-01-16T14:41:08.234726Z",
     "shell.execute_reply.started": "2022-01-16T14:37:38.261025Z"
    },
    "papermill": {
     "duration": 0.026927,
     "end_time": "2022-01-16T14:41:08.234899",
     "exception": false,
     "start_time": "2022-01-16T14:41:08.207972",
     "status": "completed"
    },
    "tags": []
   },
   "outputs": [
    {
     "data": {
      "application/javascript": [
       "parent.postMessage({\"jupyterEvent\": \"custom.exercise_interaction\", \"data\": {\"outcomeType\": 1, \"valueTowardsCompletion\": 0.16666666666666666, \"interactionType\": 1, \"questionType\": 1, \"questionId\": \"4_SortedVarieties\", \"learnToolsVersion\": \"0.3.4\", \"failureMessage\": \"\", \"exceptionClass\": \"\", \"trace\": \"\"}}, \"*\")"
      ],
      "text/plain": [
       "<IPython.core.display.Javascript object>"
      ]
     },
     "metadata": {},
     "output_type": "display_data"
    },
    {
     "data": {
      "text/markdown": [
       "<span style=\"color:#33cc33\">Correct</span>"
      ],
      "text/plain": [
       "Correct"
      ]
     },
     "metadata": {},
     "output_type": "display_data"
    }
   ],
   "source": [
    "sorted_varieties = price_extremes.sort_values(by=['min','max'],ascending=False)\n",
    "\n",
    "# Check your answer\n",
    "q4.check()"
   ]
  },
  {
   "cell_type": "code",
   "execution_count": 9,
   "id": "10c3d8a2",
   "metadata": {
    "execution": {
     "iopub.execute_input": "2022-01-16T14:41:08.271407Z",
     "iopub.status.busy": "2022-01-16T14:41:08.270868Z",
     "iopub.status.idle": "2022-01-16T14:41:08.273229Z",
     "shell.execute_reply": "2022-01-16T14:41:08.273768Z"
    },
    "papermill": {
     "duration": 0.022167,
     "end_time": "2022-01-16T14:41:08.273991",
     "exception": false,
     "start_time": "2022-01-16T14:41:08.251824",
     "status": "completed"
    },
    "tags": []
   },
   "outputs": [],
   "source": [
    "#q4.hint()\n",
    "#q4.solution()"
   ]
  },
  {
   "cell_type": "markdown",
   "id": "1661329d",
   "metadata": {
    "papermill": {
     "duration": 0.01791,
     "end_time": "2022-01-16T14:41:08.308739",
     "exception": false,
     "start_time": "2022-01-16T14:41:08.290829",
     "status": "completed"
    },
    "tags": []
   },
   "source": [
    "## 5.\n",
    "Create a `Series` whose index is reviewers and whose values is the average review score given out by that reviewer. Hint: you will need the `taster_name` and `points` columns."
   ]
  },
  {
   "cell_type": "code",
   "execution_count": 10,
   "id": "5e6ed238",
   "metadata": {
    "execution": {
     "iopub.execute_input": "2022-01-16T14:41:08.345487Z",
     "iopub.status.busy": "2022-01-16T14:41:08.344914Z",
     "iopub.status.idle": "2022-01-16T14:41:08.362418Z",
     "shell.execute_reply": "2022-01-16T14:41:08.362954Z",
     "shell.execute_reply.started": "2022-01-16T14:37:41.769130Z"
    },
    "papermill": {
     "duration": 0.037602,
     "end_time": "2022-01-16T14:41:08.363121",
     "exception": false,
     "start_time": "2022-01-16T14:41:08.325519",
     "status": "completed"
    },
    "tags": []
   },
   "outputs": [
    {
     "data": {
      "application/javascript": [
       "parent.postMessage({\"jupyterEvent\": \"custom.exercise_interaction\", \"data\": {\"outcomeType\": 1, \"valueTowardsCompletion\": 0.16666666666666666, \"interactionType\": 1, \"questionType\": 1, \"questionId\": \"5_ReviewerMeanRatings\", \"learnToolsVersion\": \"0.3.4\", \"failureMessage\": \"\", \"exceptionClass\": \"\", \"trace\": \"\"}}, \"*\")"
      ],
      "text/plain": [
       "<IPython.core.display.Javascript object>"
      ]
     },
     "metadata": {},
     "output_type": "display_data"
    },
    {
     "data": {
      "text/markdown": [
       "<span style=\"color:#33cc33\">Correct</span>"
      ],
      "text/plain": [
       "Correct"
      ]
     },
     "metadata": {},
     "output_type": "display_data"
    }
   ],
   "source": [
    "reviewer_mean_ratings = reviews.groupby('taster_name').points.mean()\n",
    "\n",
    "# Check your answer\n",
    "q5.check()"
   ]
  },
  {
   "cell_type": "code",
   "execution_count": 11,
   "id": "42daa07b",
   "metadata": {
    "execution": {
     "iopub.execute_input": "2022-01-16T14:41:08.403222Z",
     "iopub.status.busy": "2022-01-16T14:41:08.402514Z",
     "iopub.status.idle": "2022-01-16T14:41:08.404293Z",
     "shell.execute_reply": "2022-01-16T14:41:08.404788Z"
    },
    "papermill": {
     "duration": 0.023548,
     "end_time": "2022-01-16T14:41:08.404969",
     "exception": false,
     "start_time": "2022-01-16T14:41:08.381421",
     "status": "completed"
    },
    "tags": []
   },
   "outputs": [],
   "source": [
    "#q5.hint()\n",
    "#q5.solution()"
   ]
  },
  {
   "cell_type": "markdown",
   "id": "babc04bf",
   "metadata": {
    "papermill": {
     "duration": 0.017294,
     "end_time": "2022-01-16T14:41:08.439792",
     "exception": false,
     "start_time": "2022-01-16T14:41:08.422498",
     "status": "completed"
    },
    "tags": []
   },
   "source": [
    "Are there significant differences in the average scores assigned by the various reviewers? Run the cell below to use the `describe()` method to see a summary of the range of values."
   ]
  },
  {
   "cell_type": "code",
   "execution_count": 12,
   "id": "859afee6",
   "metadata": {
    "execution": {
     "iopub.execute_input": "2022-01-16T14:41:08.478370Z",
     "iopub.status.busy": "2022-01-16T14:41:08.477719Z",
     "iopub.status.idle": "2022-01-16T14:41:08.485802Z",
     "shell.execute_reply": "2022-01-16T14:41:08.486306Z",
     "shell.execute_reply.started": "2022-01-16T14:37:47.661641Z"
    },
    "papermill": {
     "duration": 0.029241,
     "end_time": "2022-01-16T14:41:08.486462",
     "exception": false,
     "start_time": "2022-01-16T14:41:08.457221",
     "status": "completed"
    },
    "tags": []
   },
   "outputs": [
    {
     "data": {
      "text/plain": [
       "count    19.000000\n",
       "mean     88.233026\n",
       "std       1.243610\n",
       "min      85.855422\n",
       "25%      87.323501\n",
       "50%      88.536235\n",
       "75%      88.975256\n",
       "max      90.562551\n",
       "Name: points, dtype: float64"
      ]
     },
     "execution_count": 12,
     "metadata": {},
     "output_type": "execute_result"
    }
   ],
   "source": [
    "reviewer_mean_ratings.describe()"
   ]
  },
  {
   "cell_type": "markdown",
   "id": "4606b750",
   "metadata": {
    "papermill": {
     "duration": 0.017397,
     "end_time": "2022-01-16T14:41:08.522497",
     "exception": false,
     "start_time": "2022-01-16T14:41:08.505100",
     "status": "completed"
    },
    "tags": []
   },
   "source": [
    "## 6.\n",
    "What combination of countries and varieties are most common? Create a `Series` whose index is a `MultiIndex`of `{country, variety}` pairs. For example, a pinot noir produced in the US should map to `{\"US\", \"Pinot Noir\"}`. Sort the values in the `Series` in descending order based on wine count."
   ]
  },
  {
   "cell_type": "code",
   "execution_count": 13,
   "id": "c2cb8bd9",
   "metadata": {
    "execution": {
     "iopub.execute_input": "2022-01-16T14:41:08.561504Z",
     "iopub.status.busy": "2022-01-16T14:41:08.560957Z",
     "iopub.status.idle": "2022-01-16T14:41:08.598352Z",
     "shell.execute_reply": "2022-01-16T14:41:08.598853Z",
     "shell.execute_reply.started": "2022-01-16T14:38:50.348464Z"
    },
    "papermill": {
     "duration": 0.058692,
     "end_time": "2022-01-16T14:41:08.599011",
     "exception": false,
     "start_time": "2022-01-16T14:41:08.540319",
     "status": "completed"
    },
    "tags": []
   },
   "outputs": [
    {
     "data": {
      "application/javascript": [
       "parent.postMessage({\"jupyterEvent\": \"custom.exercise_interaction\", \"data\": {\"outcomeType\": 1, \"valueTowardsCompletion\": 0.16666666666666666, \"interactionType\": 1, \"questionType\": 1, \"questionId\": \"6_GroupbyCountryVariety\", \"learnToolsVersion\": \"0.3.4\", \"failureMessage\": \"\", \"exceptionClass\": \"\", \"trace\": \"\"}}, \"*\")"
      ],
      "text/plain": [
       "<IPython.core.display.Javascript object>"
      ]
     },
     "metadata": {},
     "output_type": "display_data"
    },
    {
     "data": {
      "text/markdown": [
       "<span style=\"color:#33cc33\">Correct</span>"
      ],
      "text/plain": [
       "Correct"
      ]
     },
     "metadata": {},
     "output_type": "display_data"
    }
   ],
   "source": [
    "country_variety_counts = reviews.groupby(['country', 'variety']).variety.count().sort_values(ascending=False)\n",
    "\n",
    "# Check your answer\n",
    "q6.check()"
   ]
  },
  {
   "cell_type": "code",
   "execution_count": 14,
   "id": "218239a9",
   "metadata": {
    "execution": {
     "iopub.execute_input": "2022-01-16T14:41:08.640451Z",
     "iopub.status.busy": "2022-01-16T14:41:08.639894Z",
     "iopub.status.idle": "2022-01-16T14:41:08.642217Z",
     "shell.execute_reply": "2022-01-16T14:41:08.642729Z",
     "shell.execute_reply.started": "2022-01-16T14:38:57.884764Z"
    },
    "papermill": {
     "duration": 0.024485,
     "end_time": "2022-01-16T14:41:08.642893",
     "exception": false,
     "start_time": "2022-01-16T14:41:08.618408",
     "status": "completed"
    },
    "tags": []
   },
   "outputs": [],
   "source": [
    "#q6.hint()\n",
    "#q6.solution()"
   ]
  },
  {
   "cell_type": "markdown",
   "id": "08bcdf30",
   "metadata": {
    "papermill": {
     "duration": 0.01835,
     "end_time": "2022-01-16T14:41:08.679913",
     "exception": false,
     "start_time": "2022-01-16T14:41:08.661563",
     "status": "completed"
    },
    "tags": []
   },
   "source": [
    "# Keep going\n",
    "\n",
    "Move on to the [**data types and missing data**](https://www.kaggle.com/residentmario/data-types-and-missing-values)."
   ]
  },
  {
   "cell_type": "markdown",
   "id": "65003ddf",
   "metadata": {
    "papermill": {
     "duration": 0.018234,
     "end_time": "2022-01-16T14:41:08.716965",
     "exception": false,
     "start_time": "2022-01-16T14:41:08.698731",
     "status": "completed"
    },
    "tags": []
   },
   "source": [
    "---\n",
    "\n",
    "\n",
    "\n",
    "\n",
    "*Have questions or comments? Visit the [course discussion forum](https://www.kaggle.com/learn/pandas/discussion) to chat with other learners.*"
   ]
  }
 ],
 "metadata": {
  "kernelspec": {
   "display_name": "Python 3",
   "language": "python",
   "name": "python3"
  },
  "language_info": {
   "codemirror_mode": {
    "name": "ipython",
    "version": 3
   },
   "file_extension": ".py",
   "mimetype": "text/x-python",
   "name": "python",
   "nbconvert_exporter": "python",
   "pygments_lexer": "ipython3",
   "version": "3.7.12"
  },
  "papermill": {
   "default_parameters": {},
   "duration": 13.472508,
   "end_time": "2022-01-16T14:41:09.344591",
   "environment_variables": {},
   "exception": null,
   "input_path": "__notebook__.ipynb",
   "output_path": "__notebook__.ipynb",
   "parameters": {},
   "start_time": "2022-01-16T14:40:55.872083",
   "version": "2.3.3"
  }
 },
 "nbformat": 4,
 "nbformat_minor": 5
}
